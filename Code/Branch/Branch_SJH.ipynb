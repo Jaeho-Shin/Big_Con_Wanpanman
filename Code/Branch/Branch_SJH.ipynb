{
 "cells": [
  {
   "cell_type": "markdown",
   "metadata": {},
   "source": [
    "# BaseLine"
   ]
  },
  {
   "cell_type": "code",
   "execution_count": 19,
   "metadata": {
    "tags": []
   },
   "outputs": [
    {
     "output_type": "stream",
     "name": "stdout",
     "text": "Index(['index', '방송일시', '노출(분)', '마더코드', '상품코드', '상품명', '상품군', '판매단가', '취급액'], dtype='object')\nIndex(['index', 'time', 'exposure_time', 'mcode', 'product_code',\n       'product_name', 'category', 'price', 'salesAMT'],\n      dtype='object')\n"
    }
   ],
   "source": [
    "import matplotlib.pyplot as plt\n",
    "import matplotlib.font_manager as fm\n",
    "import pandas as pd\n",
    "import numpy as np\n",
    "from datetime import datetime\n",
    "import time\n",
    "\n",
    "# 행 많이보기\n",
    "pd.set_option('display.max_row', 500)\n",
    "pd.set_option('display.max_columns', 100)\n",
    "\n",
    "# 한글 폰트 설정\n",
    "# fm.get_fontconfig_fonts()\n",
    "# font_location = 'C:/Windows/Fonts/NanumGothic.ttf' # For Windows\n",
    "# font_name = fm.FontProperties(fname=font_location).get_name()\n",
    "# plt.rc('font', family=font_name)\n",
    "# plt.rc('font', size=12)\n",
    "# plt.figure(figsize=(20,10))\n",
    "\n",
    "# 지수 표현 안보기\n",
    "\n",
    "# 데이터 로드\n",
    "data = pd.read_excel('../../Data/2019_data_time.xlsx', encoding='cp949', header=0, parse_dates=[\"방송일시\"])\n",
    "\n",
    "# 무형 제거\n",
    "\n",
    "data.drop(data[data['상품군']=='무형'].index, inplace=True)\n",
    "data.reset_index(inplace=True)\n",
    "\n",
    "\n",
    "\n",
    "# 판매단가, 취급액 쉼표 제거 , int 변환\n",
    "\n",
    "# data['판매단가'] = data['판매단가'].str.replace(',','').astype(int)\n",
    "# data['취급액'] = data['취급액'].str.replace(',','').astype(int)\n",
    "# data['노출(분)'] = data['노출(분)'].astype(int)\n",
    "\n",
    "\n",
    "\n",
    "# 취급액 결측치 값 변경\n",
    "# df.loc[df['취급액']==1]['취급액'] = 50000\n",
    "\n",
    "\n",
    "\n",
    "# 날짜 변경 ( 다음날 데이터를 현재 날짜로 할 건지 )\n",
    "\n",
    "\n",
    "\n",
    "\n",
    "# data 의 colname 영어로 변경\n",
    "# index drop 필요\n",
    "print(data.columns)\n",
    "data.columns = ['index', 'time', 'exposure_time', 'mcode', 'product_code', 'product_name', 'category','price','salesAMT']\n",
    "print(data.columns)\n",
    "                \n",
    "# M', 'D', 'day', 'H', 'm',\n",
    "#3"
   ]
  },
  {
   "cell_type": "markdown",
   "metadata": {},
   "source": [
    "# Preprocessing"
   ]
  },
  {
   "cell_type": "code",
   "execution_count": 24,
   "metadata": {},
   "outputs": [],
   "source": [
    "##  Branch : 12날짜 변경 "
   ]
  },
  {
   "cell_type": "code",
   "execution_count": 20,
   "metadata": {},
   "outputs": [
    {
     "output_type": "execute_result",
     "data": {
      "text/plain": "index                     int64\ntime             datetime64[ns]\nexposure_time           float64\nmcode                     int64\nproduct_code              int64\nproduct_name             object\ncategory                 object\nprice                     int64\nsalesAMT                float64\ndtype: object"
     },
     "metadata": {},
     "execution_count": 20
    }
   ],
   "source": [
    "data.dtypes"
   ]
  },
  {
   "cell_type": "code",
   "execution_count": 21,
   "metadata": {},
   "outputs": [
    {
     "output_type": "execute_result",
     "data": {
      "text/plain": "   index                time  exposure_time   mcode  product_code  \\\n0      0 2019-01-01 06:00:00           20.0  100346        201072   \n1      1 2019-01-01 06:00:00           20.0  100346        201079   \n2      2 2019-01-01 06:20:00           20.0  100346        201072   \n3      3 2019-01-01 06:20:00           20.0  100346        201079   \n4      4 2019-01-01 06:40:00           20.0  100346        201072   \n\n    product_name category  price   salesAMT  time_month  time_day  time_hour  \\\n0  테이트 남성 셀린니트3종       의류  39900  2099000.0           1         1          6   \n1  테이트 여성 셀린니트3종       의류  39900  4371000.0           1         1          6   \n2  테이트 남성 셀린니트3종       의류  39900  3262000.0           1         1          6   \n3  테이트 여성 셀린니트3종       의류  39900  6955000.0           1         1          6   \n4  테이트 남성 셀린니트3종       의류  39900  6672000.0           1         1          6   \n\n   time_min  day_of_the_week  \n0         0                1  \n1         0                1  \n2        20                1  \n3        20                1  \n4        40                1  ",
      "text/html": "<div>\n<style scoped>\n    .dataframe tbody tr th:only-of-type {\n        vertical-align: middle;\n    }\n\n    .dataframe tbody tr th {\n        vertical-align: top;\n    }\n\n    .dataframe thead th {\n        text-align: right;\n    }\n</style>\n<table border=\"1\" class=\"dataframe\">\n  <thead>\n    <tr style=\"text-align: right;\">\n      <th></th>\n      <th>index</th>\n      <th>time</th>\n      <th>exposure_time</th>\n      <th>mcode</th>\n      <th>product_code</th>\n      <th>product_name</th>\n      <th>category</th>\n      <th>price</th>\n      <th>salesAMT</th>\n      <th>time_month</th>\n      <th>time_day</th>\n      <th>time_hour</th>\n      <th>time_min</th>\n      <th>day_of_the_week</th>\n    </tr>\n  </thead>\n  <tbody>\n    <tr>\n      <th>0</th>\n      <td>0</td>\n      <td>2019-01-01 06:00:00</td>\n      <td>20.0</td>\n      <td>100346</td>\n      <td>201072</td>\n      <td>테이트 남성 셀린니트3종</td>\n      <td>의류</td>\n      <td>39900</td>\n      <td>2099000.0</td>\n      <td>1</td>\n      <td>1</td>\n      <td>6</td>\n      <td>0</td>\n      <td>1</td>\n    </tr>\n    <tr>\n      <th>1</th>\n      <td>1</td>\n      <td>2019-01-01 06:00:00</td>\n      <td>20.0</td>\n      <td>100346</td>\n      <td>201079</td>\n      <td>테이트 여성 셀린니트3종</td>\n      <td>의류</td>\n      <td>39900</td>\n      <td>4371000.0</td>\n      <td>1</td>\n      <td>1</td>\n      <td>6</td>\n      <td>0</td>\n      <td>1</td>\n    </tr>\n    <tr>\n      <th>2</th>\n      <td>2</td>\n      <td>2019-01-01 06:20:00</td>\n      <td>20.0</td>\n      <td>100346</td>\n      <td>201072</td>\n      <td>테이트 남성 셀린니트3종</td>\n      <td>의류</td>\n      <td>39900</td>\n      <td>3262000.0</td>\n      <td>1</td>\n      <td>1</td>\n      <td>6</td>\n      <td>20</td>\n      <td>1</td>\n    </tr>\n    <tr>\n      <th>3</th>\n      <td>3</td>\n      <td>2019-01-01 06:20:00</td>\n      <td>20.0</td>\n      <td>100346</td>\n      <td>201079</td>\n      <td>테이트 여성 셀린니트3종</td>\n      <td>의류</td>\n      <td>39900</td>\n      <td>6955000.0</td>\n      <td>1</td>\n      <td>1</td>\n      <td>6</td>\n      <td>20</td>\n      <td>1</td>\n    </tr>\n    <tr>\n      <th>4</th>\n      <td>4</td>\n      <td>2019-01-01 06:40:00</td>\n      <td>20.0</td>\n      <td>100346</td>\n      <td>201072</td>\n      <td>테이트 남성 셀린니트3종</td>\n      <td>의류</td>\n      <td>39900</td>\n      <td>6672000.0</td>\n      <td>1</td>\n      <td>1</td>\n      <td>6</td>\n      <td>40</td>\n      <td>1</td>\n    </tr>\n  </tbody>\n</table>\n</div>"
     },
     "metadata": {},
     "execution_count": 21
    }
   ],
   "source": [
    "# 방송일시를 월,일,시간,요일로 변경하여 저장\n",
    "data[\"time\"] = pd.to_datetime(data[\"time\"], format='%Y-%m-%d %h:%m', errors='raise')\n",
    "data[\"time_month\"] = data[\"time\"].dt.month\n",
    "data[\"time_day\"] = data[\"time\"].dt.day\n",
    "data[\"time_hour\"] = data[\"time\"].dt.hour\n",
    "data[\"time_min\"] = data[\"time\"].dt.minute\n",
    "data[\"day_of_the_week\"] = data[\"time\"].dt.dayofweek\n",
    "data.head()"
   ]
  },
  {
   "cell_type": "code",
   "execution_count": 22,
   "metadata": {},
   "outputs": [],
   "source": [
    "# 홈쇼핑 하루 방송 사이클이 오전 06시(06시20분)~익일 02시(02시20분) 까지 이므로 날짜를 맞춰주는 작업 수행\n",
    "# 0시~3시 사이의 방송시간을 24시~27시로 변경\n",
    "# 방송 날짜와 요일을 하루전으로 변경\n",
    "overnight_index_list = data.loc[(data[\"time_hour\"] >=0) & (data[\"time_hour\"] < 3)].index\n",
    "overnight_index_list\n",
    "data.loc[overnight_index_list, \"time_hour\"] += 24\n",
    "data.loc[overnight_index_list, \"time_day\"] -= 1\n",
    "data.loc[overnight_index_list, \"day_of_the_week\"] -= 1\n",
    "data.loc[data[\"day_of_the_week\"] == -1, \"day_of_the_week\"] = 6"
   ]
  },
  {
   "cell_type": "code",
   "execution_count": 23,
   "metadata": {},
   "outputs": [],
   "source": [
    "# 다음달로 넘어가거나 다음연도로 넘어간 항목은 월,일 재조정\n",
    "data.loc[(data[\"time_month\"] == 2) & (data[\"time_day\"] == 0), [\"time_month\", \"time_day\"]] = 1, 31\n",
    "data.loc[(data[\"time_month\"] == 3) & (data[\"time_day\"] == 0), [\"time_month\", \"time_day\"]] = 2, 28\n",
    "data.loc[(data[\"time_month\"] == 4) & (data[\"time_day\"] == 0), [\"time_month\", \"time_day\"]] = 3, 31\n",
    "data.loc[(data[\"time_month\"] == 5) & (data[\"time_day\"] == 0), [\"time_month\", \"time_day\"]] = 4, 30\n",
    "data.loc[(data[\"time_month\"] == 6) & (data[\"time_day\"] == 0), [\"time_month\", \"time_day\"]] = 5, 31\n",
    "data.loc[(data[\"time_month\"] == 7) & (data[\"time_day\"] == 0), [\"time_month\", \"time_day\"]] = 6, 30\n",
    "data.loc[(data[\"time_month\"] == 8) & (data[\"time_day\"] == 0), [\"time_month\", \"time_day\"]] = 7, 31\n",
    "data.loc[(data[\"time_month\"] == 9) & (data[\"time_day\"] == 0), [\"time_month\", \"time_day\"]] = 8, 31\n",
    "data.loc[(data[\"time_month\"] == 10) & (data[\"time_day\"] == 0), [\"time_month\", \"time_day\"]] = 9, 30\n",
    "data.loc[(data[\"time_month\"] == 11) & (data[\"time_day\"] == 0), [\"time_month\", \"time_day\"]] = 10, 31\n",
    "data.loc[(data[\"time_month\"] == 12) & (data[\"time_day\"] == 0), [\"time_month\", \"time_day\"]] = 11, 30\n",
    "data.loc[(data[\"time_month\"] == 1) & (data[\"time_day\"] == 0), [\"time_month\", \"time_day\"]] = 12, 31"
   ]
  },
  {
   "cell_type": "code",
   "execution_count": null,
   "metadata": {},
   "outputs": [],
   "source": []
  },
  {
   "cell_type": "code",
   "execution_count": null,
   "metadata": {},
   "outputs": [],
   "source": []
  }
 ],
 "metadata": {
  "kernelspec": {
   "display_name": "Python 3",
   "language": "python",
   "name": "python3"
  },
  "language_info": {
   "codemirror_mode": {
    "name": "ipython",
    "version": 3
   },
   "file_extension": ".py",
   "mimetype": "text/x-python",
   "name": "python",
   "nbconvert_exporter": "python",
   "pygments_lexer": "ipython3",
   "version": "3.7.6"
  }
 },
 "nbformat": 4,
 "nbformat_minor": 4
}