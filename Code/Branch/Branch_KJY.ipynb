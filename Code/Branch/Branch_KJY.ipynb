{
 "cells": [
  {
   "cell_type": "markdown",
   "metadata": {},
   "source": [
    "# Baseline_KJY"
   ]
  },
  {
   "cell_type": "markdown",
   "metadata": {},
   "source": [
    "## Loading Data"
   ]
  },
  {
   "cell_type": "code",
   "execution_count": 66,
   "metadata": {
    "ExecuteTime": {
     "end_time": "2020-08-11T08:22:39.252188Z",
     "start_time": "2020-08-11T08:22:30.634046Z"
    }
   },
   "outputs": [
    {
     "name": "stdout",
     "output_type": "stream",
     "text": [
      "Index(['index', '방송일시', '노출(분)', '마더코드', '상품코드', '상품명', '상품군', '판매단가', '취급액'], dtype='object')\n",
      "Index(['index', 'time', 'exposure_time', 'mcode', 'product_code',\n",
      "       'product_name', 'category', 'price', 'salesAMT'],\n",
      "      dtype='object')\n"
     ]
    },
    {
     "data": {
      "text/plain": [
       "<Figure size 1440x720 with 0 Axes>"
      ]
     },
     "metadata": {},
     "output_type": "display_data"
    }
   ],
   "source": [
    "import matplotlib.pyplot as plt\n",
    "import matplotlib.font_manager as fm\n",
    "import pandas as pd\n",
    "import numpy as np\n",
    "from datetime import datetime\n",
    "import time\n",
    "\n",
    "import pylab as plot\n",
    "\n",
    "# 행 많이보기\n",
    "pd.set_option('display.max_row',40)\n",
    "pd.set_option('display.max_columns', 100)\n",
    "\n",
    "# 한글 폰트 설정\n",
    "fm.get_fontconfig_fonts()\n",
    "font_location = 'C:/Windows/Fonts/NanumGothic.ttf' # For Windows\n",
    "font_name = fm.FontProperties(fname=font_location).get_name()\n",
    "plt.rc('font', family=font_name)\n",
    "plt.rc('font', size=12)\n",
    "plt.figure(figsize=(20,10))\n",
    "\n",
    "# 지수 표현 안보기\n",
    "\n",
    "# 데이터 로드\n",
    "data = pd.read_excel('./Data/2019_data_time.xlsx', encoding='cp949', header=0, parse_dates=[\"방송일시\"])\n",
    "\n",
    "# 무형 제거\n",
    "\n",
    "data.drop(data[data['상품군']=='무형'].index, inplace=True)\n",
    "data.reset_index(inplace=True)\n",
    "\n",
    "\n",
    "\n",
    "# 판매단가, 취급액 쉼표 제거 , int 변환\n",
    "\n",
    "# data['판매단가'] = data['판매단가'].str.replace(',','').astype(int)\n",
    "# data['취급액'] = data['취급액'].str.replace(',','').astype(int)\n",
    "# data['노출(분)'] = data['노출(분)'].astype(int)\n",
    "\n",
    "\n",
    "\n",
    "# 취급액 결측치 값 변경\n",
    "# df.loc[df['취급액']==1]['취급액'] = 50000\n",
    "\n",
    "\n",
    "\n",
    "# 날짜 변경 ( 다음날 데이터를 현재 날짜로 할 건지 )\n",
    "\n",
    "\n",
    "\n",
    "\n",
    "# data 의 colname 영어로 변경\n",
    "# index drop 필요\n",
    "print(data.columns)\n",
    "data.columns = ['index', 'time', 'exposure_time', 'mcode', 'product_code', 'product_name', 'category','price','salesAMT']\n",
    "print(data.columns)\n",
    "                \n",
    "# M', 'D', 'day', 'H', 'm',\n",
    "#3"
   ]
  },
  {
   "cell_type": "markdown",
   "metadata": {},
   "source": [
    "# 전처리"
   ]
  },
  {
   "cell_type": "markdown",
   "metadata": {},
   "source": [
    "## time feature"
   ]
  },
  {
   "cell_type": "code",
   "execution_count": 37,
   "metadata": {},
   "outputs": [],
   "source": [
    "data['time_month']    = data['time'].dt.month        # 월(숫자)\n",
    "data['time_day']        = data['time'].dt.day          # 일(숫자)\n",
    "data['time_hour']       = data['time'].dt.hour         # 시(숫자)\n",
    "data['time_minute']     = data['time'].dt.minute       # 분(숫자)\n",
    "data['tiem_second']     = data['time'].dt.second       # 초(숫자\n",
    "data['weekofyear']    = data['time'].dt.weekofyear      # 연 기준 몇주째(숫자) (=week)\n",
    "data['dayofyear']     = data['time'].dt.dayofyear       # 연 기준 몇일째(숫자)\n",
    "data['date']        = data['time'].dt.date          # 년월일"
   ]
  },
  {
   "cell_type": "markdown",
   "metadata": {},
   "source": [
    "## 기상 feature 추가 (지역별 인구수에 가중치 부여)"
   ]
  },
  {
   "cell_type": "markdown",
   "metadata": {},
   "source": [
    "### 데이터 불러오기"
   ]
  },
  {
   "cell_type": "code",
   "execution_count": 38,
   "metadata": {},
   "outputs": [],
   "source": [
    "# 지역별 데이터 불러오기\n",
    "seoul_df = pd.read_csv('./Data/서울.csv', encoding = 'euc-kr')\n",
    "busan_df = pd.read_csv('./Data/부산.csv', encoding = 'euc-kr')\n",
    "inchon_df = pd.read_csv('./Data/인천.csv', encoding = 'euc-kr')\n",
    "daeseon_df = pd.read_csv('./Data/대전.csv', encoding = 'euc-kr')\n",
    "daegu_df = pd.read_csv('./Data/대구.csv', encoding = 'euc-kr')\n",
    "ulsan_df = pd.read_csv('./Data/울산.csv', encoding = 'euc-kr')\n",
    "gwangzu_df = pd.read_csv('./Data/광주.csv', encoding = 'euc-kr')\n",
    "\n",
    "# 지역별 인구수\n",
    "seoul = 9729107\n",
    "busan = 3413841\n",
    "inchon = 2957026\n",
    "daeseon = 1474870\n",
    "daegu = 2438031\n",
    "ulsan = 1148019\n",
    "gwangzu = 1456468\n",
    "\n",
    "# 지역별 인구수 합\n",
    "total = seoul+busan+inchon+daeseon+ulsan+seoul+gwangzu\n",
    "\n",
    "# 지역별 인구수 비율\n",
    "seoul_rate = seoul/total\n",
    "busan_rate = busan/total\n",
    "inchon_rate = inchon/total\n",
    "daeseon_rate = daeseon/total\n",
    "daegu_rate = daegu/total\n",
    "ulsan_rate = ulsan/total\n",
    "gwangzu_rate = gwangzu/total\n",
    "\n",
    "# 결측값 처리\n",
    "seoul_df.fillna(0, inplace = True)\n",
    "busan_df.fillna(0, inplace = True)\n",
    "inchon_df.fillna(0, inplace = True)\n",
    "daeseon_df.fillna(0, inplace = True)\n",
    "daegu_df.fillna(0, inplace = True)\n",
    "ulsan_df.fillna(0, inplace = True)\n",
    "gwangzu_df.fillna(0, inplace = True)\n",
    "\n",
    "# 비율 반영\n",
    "\n",
    "seoul_df2 = seoul_df.drop(['일시','지점','지점명'],axis = 1)*seoul_rate\n",
    "busan_df2 = busan_df.drop(['일시','지점','지점명'],axis = 1)*busan_rate \n",
    "inchon_df2 = inchon_df.drop(['일시','지점','지점명'],axis = 1)*inchon_rate\n",
    "daeseon_df2 = daeseon_df.drop(['일시','지점','지점명'],axis = 1)*daeseon_rate\n",
    "daegu_df2 = daegu_df.drop(['일시','지점','지점명'],axis = 1)*daegu_rate\n",
    "ulsan_df2 = ulsan_df.drop(['일시','지점','지점명'],axis = 1)*ulsan_rate\n",
    "gwangzu_df2 = gwangzu_df.drop(['일시','지점','지점명'],axis = 1)*gwangzu_rate\n",
    "\n",
    "# 데이터 프레임 병합\n",
    "\n",
    "r_df = seoul_df2 + busan_df2 + inchon_df2 + daeseon_df2 + daegu_df2 + ulsan_df2 + gwangzu_df2 \n",
    "#r_df = seoul_df\n",
    "r_df['date'] = seoul_df['일시']\n",
    "r_df['date'] = pd.to_datetime(r_df['date'], format='%Y-%m-%d %H:%M:%S', errors='raise')\n",
    "r_df['date'] = r_df['date'].dt.date \n",
    "r_df.drop(['일 최심신적설(cm)','최대 순간 풍속(m/s)'],axis = 1 ,inplace = True)"
   ]
  },
  {
   "cell_type": "markdown",
   "metadata": {},
   "source": [
    "### Reindexing"
   ]
  },
  {
   "cell_type": "code",
   "execution_count": 41,
   "metadata": {},
   "outputs": [],
   "source": [
    "r_df.columns = ['mean_temp','min_temp','max_temp','raining_dur(hr)','rain_per_hour','rain_per_day','max_wind',\n",
    "             'mean_wind','min_Humidity','mean_Humidity','date']"
   ]
  },
  {
   "cell_type": "markdown",
   "metadata": {},
   "source": [
    "### DataFrame 병합"
   ]
  },
  {
   "cell_type": "code",
   "execution_count": 44,
   "metadata": {},
   "outputs": [],
   "source": [
    "data = pd.merge(data,r_df,on = 'date', how='left')"
   ]
  },
  {
   "cell_type": "markdown",
   "metadata": {},
   "source": [
    "## 상품군 category 별 분류"
   ]
  },
  {
   "cell_type": "code",
   "execution_count": 48,
   "metadata": {},
   "outputs": [],
   "source": [
    "# 상품군 one-hot encoding\n",
    "data_dummy = pd.get_dummies(data, columns=['category'], prefix='category', drop_first=True)\n",
    "data_dummy.drop(columns=['index','time','product_name','product_code'],inplace=True)"
   ]
  },
  {
   "cell_type": "markdown",
   "metadata": {},
   "source": [
    "# ML model"
   ]
  },
  {
   "cell_type": "markdown",
   "metadata": {},
   "source": [
    "## MAPE"
   ]
  },
  {
   "cell_type": "code",
   "execution_count": 51,
   "metadata": {},
   "outputs": [],
   "source": [
    "def MAPE(y_true, y_pred): \n",
    "\n",
    "    return np.mean(np.abs((y_pred-y_true) / y_true)) * 100"
   ]
  },
  {
   "cell_type": "markdown",
   "metadata": {},
   "source": [
    "## RF"
   ]
  },
  {
   "cell_type": "code",
   "execution_count": 54,
   "metadata": {},
   "outputs": [],
   "source": [
    "from sklearn.model_selection import train_test_split\n",
    "from sklearn.ensemble import RandomForestRegressor\n",
    "from sklearn.model_selection import GridSearchCV\n",
    "from sklearn.model_selection import RandomizedSearchCV\n",
    "from sklearn.metrics import r2_score"
   ]
  },
  {
   "cell_type": "markdown",
   "metadata": {},
   "source": [
    "### Validation Data"
   ]
  },
  {
   "cell_type": "code",
   "execution_count": null,
   "metadata": {},
   "outputs": [],
   "source": []
  },
  {
   "cell_type": "code",
   "execution_count": 78,
   "metadata": {},
   "outputs": [],
   "source": [
    "X = data_dummy.rename(columns = {'category_농수축' : 'food','category_의류' : 'clothes', 'category_이미용':\n",
    "                       'Hairdressing'})[['mean_temp', 'weekofyear',\n",
    "       'mean_Humidity', 'raining_dur(hr)', 'min_Humidity', 'max_temp',\n",
    "       'Hairdressing', 'exposure_time', 'mean_wind', 'min_temp', 'time_day',\n",
    "       'clothes', 'max_wind', 'dayofyear', 'time_hour', 'time_minute',\n",
    "       'mcode', 'food', 'price']]\n",
    "\n",
    "y = data_dummy['salesAMT']\n",
    "\n",
    "\n",
    "X_train, X_test, y_train, y_test = train_test_split(X, y, test_size = 0.25, random_state = 777)"
   ]
  },
  {
   "cell_type": "code",
   "execution_count": null,
   "metadata": {},
   "outputs": [],
   "source": []
  },
  {
   "cell_type": "code",
   "execution_count": 79,
   "metadata": {},
   "outputs": [
    {
     "name": "stdout",
     "output_type": "stream",
     "text": [
      "최적 파라미터      :  {'bootstrap': True, 'max_depth': 20, 'min_samples_leaf': 4, 'min_samples_split': 2, 'n_estimators': 20}\n",
      "최고 예측 정확도   : 0.6074\n",
      "검증 데이터 정확도 : 0.6367\n"
     ]
    }
   ],
   "source": [
    "rfc = RandomForestRegressor(random_state = 777)\n",
    "\n",
    "\n",
    "param ={\n",
    "    'n_estimators'      : [20],\n",
    "    'max_depth'         : [20],\n",
    "    'min_samples_leaf'  : [4],\n",
    "    'min_samples_split' : [2],\n",
    "    'bootstrap' : [True]\n",
    "}\n",
    "\n",
    "grid_rfc = GridSearchCV(rfc, param_grid = param)\n",
    "\n",
    "grid_rfc.fit(X_train, y_train)\n",
    "\n",
    "print('최적 파라미터      : ', grid_rfc.best_params_)\n",
    "print('최고 예측 정확도   : {0:.4f}'.format(grid_rfc.best_score_))\n",
    "\n",
    "estimator = grid_rfc.best_estimator_\n",
    "\n",
    "pred = estimator.predict(X_test)\n",
    "print('검증 데이터 정확도 : {0:.4f}'.format(r2_score(y_test, pred)))"
   ]
  },
  {
   "cell_type": "code",
   "execution_count": 80,
   "metadata": {},
   "outputs": [
    {
     "data": {
      "text/plain": [
       "744.0205704886821"
      ]
     },
     "execution_count": 80,
     "metadata": {},
     "output_type": "execute_result"
    }
   ],
   "source": [
    "MAPE(y_test, pred)"
   ]
  },
  {
   "cell_type": "code",
   "execution_count": 81,
   "metadata": {},
   "outputs": [
    {
     "data": {
      "image/png": "[encoded data removed]",
      "text/plain": [
       "<Figure size 432x288 with 1 Axes>"
      ]
     },
     "metadata": {
      "needs_background": "light"
     },
     "output_type": "display_data"
    }
   ],
   "source": [
    "from matplotlib import font_manager, rc\n",
    "font_name = font_manager.FontProperties(fname=\"c:/Windows/Fonts/malgun.ttf\").get_name()\n",
    "rc('font', family=font_name)\n",
    "\n",
    "#피처 중요도 도표 그리기\n",
    "featureImportance = estimator.feature_importances_\n",
    "#가장 높은 중요도 기준으로 스케일링\n",
    "featureImportance = featureImportance/featureImportance.max()\n",
    "sorted_idx = np.argsort(featureImportance[:])\n",
    "barPos = np.arange(sorted_idx[:].shape[0])+ .5\n",
    "plot.barh(barPos, featureImportance[sorted_idx[:]], align='center')\n",
    "plot.yticks(barPos, X_train.keys()[sorted_idx][:])\n",
    "plot.xlabel('Variable Importance')\n",
    "plot.show()"
   ]
  },
  {
   "cell_type": "code",
   "execution_count": 82,
   "metadata": {},
   "outputs": [
    {
     "data": {
      "text/plain": [
       "Index(['mean_Humidity', 'mean_temp', 'weekofyear', 'max_temp', 'Hairdressing',\n",
       "       'min_Humidity', 'exposure_time', 'raining_dur(hr)', 'min_temp',\n",
       "       'mean_wind', 'time_day', 'clothes', 'max_wind', 'dayofyear',\n",
       "       'time_hour', 'time_minute', 'food', 'mcode', 'price'],\n",
       "      dtype='object')"
      ]
     },
     "execution_count": 82,
     "metadata": {},
     "output_type": "execute_result"
    }
   ],
   "source": [
    "X_train.keys()[sorted_idx][:]"
   ]
  },
  {
   "cell_type": "markdown",
   "metadata": {},
   "source": [
    "## LGBM"
   ]
  },
  {
   "cell_type": "code",
   "execution_count": 83,
   "metadata": {},
   "outputs": [],
   "source": [
    "import lightgbm as lgb\n",
    "model = lgb.LGBMRegressor(random_state=777, n_estimators=1200)\n",
    "model.fit(X_train, y_train)\n",
    "predicted = model.predict(X_test)\n",
    "model_score = mean_absolute_percentage_error(y_test, predicted)"
   ]
  },
  {
   "cell_type": "code",
   "execution_count": 84,
   "metadata": {},
   "outputs": [
    {
     "data": {
      "text/plain": [
       "578.2877873079581"
      ]
     },
     "execution_count": 84,
     "metadata": {},
     "output_type": "execute_result"
    }
   ],
   "source": [
    "model_score"
   ]
  },
  {
   "cell_type": "code",
   "execution_count": 85,
   "metadata": {},
   "outputs": [
    {
     "data": {
      "image/png": "[encoded data removed]",
      "text/plain": [
       "<Figure size 432x288 with 1 Axes>"
      ]
     },
     "metadata": {
      "needs_background": "light"
     },
     "output_type": "display_data"
    }
   ],
   "source": [
    "featureImportance = model.feature_importances_\n",
    "#가장 높은 중요도 기준으로 스케일링\n",
    "featureImportance = featureImportance/featureImportance.max()\n",
    "sorted_idx = np.argsort(featureImportance[:25])\n",
    "barPos = np.arange(sorted_idx[:].shape[0])+ .5\n",
    "plot.barh(barPos, featureImportance[sorted_idx[:]], align='center')\n",
    "plot.yticks(barPos, X_train.keys()[sorted_idx][:])\n",
    "plot.xlabel('Variable Importance')\n",
    "plot.show()"
   ]
  },
  {
   "cell_type": "code",
   "execution_count": null,
   "metadata": {},
   "outputs": [],
   "source": []
  },
  {
   "cell_type": "code",
   "execution_count": null,
   "metadata": {},
   "outputs": [],
   "source": []
  },
  {
   "cell_type": "code",
   "execution_count": null,
   "metadata": {},
   "outputs": [],
   "source": []
  },
  {
   "cell_type": "code",
   "execution_count": null,
   "metadata": {},
   "outputs": [],
   "source": []
  },
  {
   "cell_type": "code",
   "execution_count": null,
   "metadata": {},
   "outputs": [],
   "source": []
  },
  {
   "cell_type": "code",
   "execution_count": null,
   "metadata": {},
   "outputs": [],
   "source": []
  },
  {
   "cell_type": "code",
   "execution_count": null,
   "metadata": {},
   "outputs": [],
   "source": []
  },
  {
   "cell_type": "code",
   "execution_count": null,
   "metadata": {},
   "outputs": [],
   "source": []
  },
  {
   "cell_type": "code",
   "execution_count": null,
   "metadata": {},
   "outputs": [],
   "source": []
  },
  {
   "cell_type": "code",
   "execution_count": null,
   "metadata": {},
   "outputs": [],
   "source": []
  },
  {
   "cell_type": "code",
   "execution_count": null,
   "metadata": {},
   "outputs": [],
   "source": []
  },
  {
   "cell_type": "code",
   "execution_count": null,
   "metadata": {},
   "outputs": [],
   "source": []
  },
  {
   "cell_type": "code",
   "execution_count": null,
   "metadata": {},
   "outputs": [],
   "source": []
  },
  {
   "cell_type": "code",
   "execution_count": null,
   "metadata": {},
   "outputs": [],
   "source": []
  },
  {
   "cell_type": "code",
   "execution_count": null,
   "metadata": {},
   "outputs": [],
   "source": []
  },
  {
   "cell_type": "code",
   "execution_count": null,
   "metadata": {},
   "outputs": [],
   "source": []
  },
  {
   "cell_type": "code",
   "execution_count": null,
   "metadata": {},
   "outputs": [],
   "source": []
  },
  {
   "cell_type": "code",
   "execution_count": null,
   "metadata": {},
   "outputs": [],
   "source": []
  },
  {
   "cell_type": "code",
   "execution_count": null,
   "metadata": {},
   "outputs": [],
   "source": []
  }
 ],
 "metadata": {
  "hide_input": false,
  "kernelspec": {
   "display_name": "Python 3",
   "language": "python",
   "name": "python3"
  },
  "toc": {
   "base_numbering": 1,
   "nav_menu": {},
   "number_sections": true,
   "sideBar": true,
   "skip_h1_title": false,
   "title_cell": "Table of Contents",
   "title_sidebar": "Contents",
   "toc_cell": false,
   "toc_position": {},
   "toc_section_display": true,
   "toc_window_display": false
  },
  "varInspector": {
   "cols": {
    "lenName": 16,
    "lenType": 16,
    "lenVar": 40
   },
   "kernels_config": {
    "python": {
     "delete_cmd_postfix": "",
     "delete_cmd_prefix": "del ",
     "library": "var_list.py",
     "varRefreshCmd": "print(var_dic_list())"
    },
    "r": {
     "delete_cmd_postfix": ") ",
     "delete_cmd_prefix": "rm(",
     "library": "var_list.r",
     "varRefreshCmd": "cat(var_dic_list()) "
    }
   },
   "types_to_exclude": [
    "module",
    "function",
    "builtin_function_or_method",
    "instance",
    "_Feature"
   ],
   "window_display": false
  }
 },
 "nbformat": 4,
 "nbformat_minor": 2
}
