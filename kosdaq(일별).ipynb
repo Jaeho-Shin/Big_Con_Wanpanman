{
 "cells": [
  {
   "cell_type": "markdown",
   "metadata": {
    "ExecuteTime": {
     "end_time": "2020-08-11T08:22:39.252188Z",
     "start_time": "2020-08-11T08:22:30.634046Z"
    }
   },
   "source": [
    "시청률+코스닥 파일의 위치는 Baseline과 같은 곳에"
   ]
  },
  {
   "cell_type": "code",
   "execution_count": 1,
   "metadata": {
    "ExecuteTime": {
     "end_time": "2020-08-11T08:22:39.252188Z",
     "start_time": "2020-08-11T08:22:30.634046Z"
    }
   },
   "outputs": [
    {
     "data": {
      "text/plain": [
       "<Figure size 1440x720 with 0 Axes>"
      ]
     },
     "execution_count": 1,
     "metadata": {},
     "output_type": "execute_result"
    },
    {
     "data": {
      "text/plain": [
       "<Figure size 1440x720 with 0 Axes>"
      ]
     },
     "metadata": {},
     "output_type": "display_data"
    }
   ],
   "source": [
    "import matplotlib.pyplot as plt\n",
    "import matplotlib.font_manager as fm\n",
    "import pandas as pd\n",
    "import numpy as np\n",
    "from datetime import datetime\n",
    "import time\n",
    "\n",
    "# 행 많이보기\n",
    "pd.set_option('display.max_row', 500)\n",
    "pd.set_option('display.max_columns', 100)\n",
    "\n",
    "# 한글 폰트 설정\n",
    "fm.get_fontconfig_fonts()\n",
    "\n",
    "# fname 옵션을 사용하는 방법\n",
    "font_location = 'C:\\\\WINDOWS\\\\Fonts\\\\\\x7f\\x7f\\x7f\\x7f.TTF' # For Windows\n",
    "font_name = fm.FontProperties(fname=font_location).get_name()\n",
    "plt.rc('font', family=font_name)\n",
    "plt.rc('font', size=12)\n",
    "plt.figure(figsize=(20,10))\n",
    "\n",
    "# 지수 표현 안보기"
   ]
  },
  {
   "cell_type": "markdown",
   "metadata": {
    "ExecuteTime": {
     "end_time": "2020-08-11T08:31:55.197548Z",
     "start_time": "2020-08-11T08:31:46.829588Z"
    }
   },
   "source": [
    "## 기본 데이터"
   ]
  },
  {
   "cell_type": "code",
   "execution_count": 2,
   "metadata": {
    "ExecuteTime": {
     "end_time": "2020-08-11T08:31:55.197548Z",
     "start_time": "2020-08-11T08:31:46.829588Z"
    }
   },
   "outputs": [],
   "source": [
    "# 데이터 로드\n",
    "data = pd.read_excel('./Data/2019_data_time.xlsx', encoding='cp949', header=0, parse_dates=[\"방송일시\"])"
   ]
  },
  {
   "cell_type": "markdown",
   "metadata": {},
   "source": [
    "## kosdaq데이터"
   ]
  },
  {
   "cell_type": "code",
   "execution_count": 3,
   "metadata": {
    "ExecuteTime": {
     "end_time": "2020-08-11T08:31:55.197548Z",
     "start_time": "2020-08-11T08:31:46.829588Z"
    }
   },
   "outputs": [],
   "source": [
    "name='kosdaq19.01.01_20.08.17(일)'\n",
    "d=pd.read_excel('./Data/'+name+'.xls',index_col='일자')\n",
    "kosdaq_day=d.reset_index()"
   ]
  },
  {
   "cell_type": "code",
   "execution_count": 4,
   "metadata": {
    "ExecuteTime": {
     "end_time": "2020-08-11T08:31:55.197548Z",
     "start_time": "2020-08-11T08:31:46.829588Z"
    }
   },
   "outputs": [],
   "source": [
    "temp=[]\n",
    "from datetime import datetime\n",
    "for i in range(len(kosdaq_day)):\n",
    "    temp.append(datetime.strptime(kosdaq_day['일자'][i], '%Y/%m/%d'))\n",
    "\n",
    "kosdaq_day['일자_datetime']=temp\n",
    "\n",
    "kosdaq_day['year']=kosdaq_day['일자_datetime'].apply(lambda x: x.year)\n",
    "kosdaq_day['month']=kosdaq_day['일자_datetime'].apply(lambda x: x.month)\n",
    "kosdaq_day['date']=kosdaq_day['일자_datetime'].apply(lambda x: x.day)"
   ]
  },
  {
   "cell_type": "code",
   "execution_count": 5,
   "metadata": {
    "ExecuteTime": {
     "end_time": "2020-08-11T08:31:55.197548Z",
     "start_time": "2020-08-11T08:31:46.829588Z"
    }
   },
   "outputs": [],
   "source": [
    "kosdaq_day_19=kosdaq_day[kosdaq_day['year']==2019]\n",
    "kosdaq_day_20=kosdaq_day[kosdaq_day['year']==2020]"
   ]
  },
  {
   "cell_type": "code",
   "execution_count": 6,
   "metadata": {
    "ExecuteTime": {
     "end_time": "2020-08-11T08:31:55.197548Z",
     "start_time": "2020-08-11T08:31:46.829588Z"
    }
   },
   "outputs": [],
   "source": [
    "#kosdaq_day_19=kosdaq_day_19['']\n",
    "kosdaq_day_19=kosdaq_day_19[['현재지수','year','month','date']]"
   ]
  },
  {
   "cell_type": "markdown",
   "metadata": {
    "heading_collapsed": true
   },
   "source": [
    "# 전처리"
   ]
  },
  {
   "cell_type": "code",
   "execution_count": 7,
   "metadata": {
    "ExecuteTime": {
     "end_time": "2020-08-11T08:31:55.297618Z",
     "start_time": "2020-08-11T08:31:55.261593Z"
    },
    "hidden": true
   },
   "outputs": [
    {
     "name": "stdout",
     "output_type": "stream",
     "text": [
      "Index(['index', '방송일시', '노출(분)', '마더코드', '상품코드', '상품명', '상품군', '판매단가', '취급액'], dtype='object')\n",
      "Index(['index', 'time', 'exposure_time', 'mcode', 'product_code',\n",
      "       'product_name', 'category', 'price', 'salesAMT'],\n",
      "      dtype='object')\n"
     ]
    }
   ],
   "source": [
    "# 무형 제거\n",
    "data.drop(data[data['상품군']=='무형'].index, inplace=True)\n",
    "data.reset_index(inplace=True)\n",
    "\n",
    "\n",
    "\n",
    "# 판매단가, 취급액 쉼표 제거 , int 변환\n",
    "\n",
    "# data['판매단가'] = data['판매단가'].str.replace(',','').astype(int)\n",
    "# data['취급액'] = data['취급액'].str.replace(',','').astype(int)\n",
    "# data['노출(분)'] = data['노출(분)'].astype(int)\n",
    "\n",
    "\n",
    "\n",
    "# 취급액 결측치 값 변경\n",
    "# df.loc[df['취급액']==1]['취급액'] = 50000\n",
    "\n",
    "\n",
    "# 날짜 변경 ( 다음날 데이터를 현재 날짜로 할 건지 )\n",
    "# data 의 colname 영어로 변경\n",
    "# index drop 필요\n",
    "print(data.columns)\n",
    "data.columns = ['index', 'time', 'exposure_time', 'mcode', 'product_code', 'product_name', 'category','price','salesAMT']\n",
    "print(data.columns)\n",
    "                \n",
    "# M', 'D', 'day', 'H', 'm',\n",
    "#3\n",
    "data['yy-mm-dd']=data['time'].apply(lambda time:str(time).split(' ')[0])\n",
    "data['s-hh-mm']=data['time'].apply(lambda time:str(time).split(' ')[1])\n",
    "data['s-hh-mm']=data['s-hh-mm'].apply(lambda x: x.split(':')[0]+\":\"+x.split(':')[1])\n",
    "data['f-hh-mm']=data['s-hh-mm']\n",
    "\n",
    "# 끝난 시각 만들기\n",
    "finishtime=[]\n",
    "for i in range(len(data)):\n",
    "    wdate=data.iloc[i,9]#년-월-일\n",
    "    wstime=data.iloc[i,10]#s-hh-mm\n",
    "    wduring=data.iloc[i,2]#exposure_time\n",
    "    \n",
    "    plushour,finishmin=divmod(int(wstime.split(':')[1])+int(wduring),60)#분끼리 더해서 60을 넘으면, 시간으로 반올림\n",
    "    finishhour=int(wstime.split(':')[0])+int(plushour)\n",
    "    #a,finishhour=divmod(finishhour,24)#24==0 바꾸는 작업\n",
    "    \n",
    "    finishtime.append('{0:02d}'.format(finishhour)+':'+'{0:02d}'.format(finishmin)) #2.6이상\n",
    "data['f-hh-mm']=finishtime\n",
    "\n",
    "data['year']=data['time'].apply(lambda time:time.year)\n",
    "data['month']=data['time'].apply(lambda time:time.month)\n",
    "data['date']=data['time'].apply(lambda time: time.day)\n",
    "\n",
    "data['hour']=data['time'].apply(lambda time:time.hour)\n",
    "data['minute']=data['time'].apply(lambda time:time.minute)\n",
    "\n",
    "data['dayofweek']=data['time'].apply(lambda time:time.dayofweek) # Monday=0, Sunday=6."
   ]
  },
  {
   "cell_type": "code",
   "execution_count": 8,
   "metadata": {
    "ExecuteTime": {
     "end_time": "2020-08-11T08:31:55.197548Z",
     "start_time": "2020-08-11T08:31:46.829588Z"
    },
    "hidden": true
   },
   "outputs": [],
   "source": [
    "data=pd.merge(data, kosdaq_day_19, # merge할 DataFrame 객체 이름\n",
    "             how='left', # left, rigth, inner (default), outer\n",
    "             on=['year','month','date'] # merge의 기준이 되는 Key 변수\n",
    "        )"
   ]
  },
  {
   "cell_type": "markdown",
   "metadata": {
    "hidden": true
   },
   "source": [
    "[datetime으로 내일_어제_쉽게구하기](https://ourcstory.tistory.com/99)\n",
    "\n",
    "import datetime\n",
    "data['time']+datetime.timedelta(days=1)\n",
    "\n",
    "hours, minutes도 days처럼 할 수 있음."
   ]
  },
  {
   "cell_type": "markdown",
   "metadata": {
    "hidden": true
   },
   "source": [
    "[fillna 앞방향으로 채우기, 뒤방향으로 채우기](https://rfriend.tistory.com/262)\n",
    "\n",
    "* 앞 방향으로 채우기\n",
    "\n",
    "fillna(method='ffill' or 'pad')\n",
    "\n",
    "* 뒤 방향으로 채우기 \n",
    "\n",
    "fillna(method='bfill' or 'backfill')"
   ]
  },
  {
   "cell_type": "code",
   "execution_count": 9,
   "metadata": {
    "hidden": true
   },
   "outputs": [],
   "source": [
    "# 앞 방향으로 채우기_ 폐장한 거 유지되기에\n",
    "\n",
    "data['현재지수'].fillna(method='ffill',inplace=True)\n",
    "\n",
    "# 2019년1월1일을 채우기 위해 2018년 12월 31일을 보았지만 역시 휴일이었기에 12월28일 주가 넣음: 675.65\n",
    "data['현재지수'].fillna(675.65,inplace=True)"
   ]
  },
  {
   "cell_type": "code",
   "execution_count": 10,
   "metadata": {
    "ExecuteTime": {
     "end_time": "2020-08-11T08:31:55.197548Z",
     "start_time": "2020-08-11T08:31:46.829588Z"
    },
    "hidden": true
   },
   "outputs": [],
   "source": [
    "#data.to_excel('./Data/일별코스닥.xlsx')"
   ]
  },
  {
   "cell_type": "markdown",
   "metadata": {},
   "source": [
    "# kosdaq 일별 그래프 그려보기\n",
    "예민-> 소비심리 반영?-> 소비지수, 물가지수, 신용카드 사용액에 대한 경기 분석을 통해. 이자율\n",
    "\n",
    "\n",
    "* 선행경기지표-> 경기가 나빠지기 전에 먼저 나빠지는 경우\n",
    "* 동행경기지표-> 비슷하게\n",
    "* 후행경기지표\n",
    "\n",
    "\n",
    "2019-01-01~2020-08-15\n",
    "* 국내 첫 감염 || 2020-01-20\n",
    "* 신천지(그룹감염1차)||2020-02-20\n",
    "* WHO에서 팬더믹 선언 || 2020-03-11\n",
    "* 사회적거리두기 첫시행 || 2020-03-22\n"
   ]
  },
  {
   "cell_type": "code",
   "execution_count": 11,
   "metadata": {},
   "outputs": [],
   "source": [
    "kosdaq_day.set_index('일자_datetime',inplace=True)"
   ]
  },
  {
   "cell_type": "code",
   "execution_count": 12,
   "metadata": {},
   "outputs": [
    {
     "data": {
      "text/plain": [
       "<matplotlib.axes._subplots.AxesSubplot at 0x1acf8fdbc18>"
      ]
     },
     "execution_count": 12,
     "metadata": {},
     "output_type": "execute_result"
    },
    {
     "data": {
      "image/png": "[encoded data removed]",
      "text/plain": [
       "<Figure size 1080x432 with 1 Axes>"
      ]
     },
     "metadata": {
      "needs_background": "light"
     },
     "output_type": "display_data"
    }
   ],
   "source": [
    "f,axes=plt.subplots(1,1,figsize=(15,6),sharex=True)\n",
    "kosdaq_day['현재지수'].plot()"
   ]
  },
  {
   "cell_type": "code",
   "execution_count": 13,
   "metadata": {},
   "outputs": [
    {
     "data": {
      "text/plain": [
       "일자_datetime\n",
       "2020-03-19    428.35\n",
       "2020-03-23    443.76\n",
       "2020-03-20    467.75\n",
       "2020-03-24    480.40\n",
       "2020-03-18    485.14\n",
       "2020-03-16    504.51\n",
       "2020-03-25    505.68\n",
       "2020-03-17    514.73\n",
       "2020-03-26    516.61\n",
       "2020-03-27    522.83\n",
       "2020-03-13    524.00\n",
       "2020-03-30    542.11\n",
       "2019-08-06    551.50\n",
       "2020-04-01    551.84\n",
       "2020-03-12    563.49\n",
       "2019-08-07    564.64\n",
       "2020-04-02    567.70\n",
       "2020-03-31    569.07\n",
       "2019-08-05    569.79\n",
       "2020-04-03    573.01\n",
       "2019-08-26    582.91\n",
       "2019-08-08    585.44\n",
       "2019-08-27    588.32\n",
       "2019-08-09    590.04\n",
       "2019-08-13    590.75\n",
       "2019-08-16    591.57\n",
       "2019-08-12    594.17\n",
       "2019-08-19    594.65\n",
       "2020-03-11    595.61\n",
       "2020-04-13    596.71\n",
       "2019-08-14    597.15\n",
       "2020-04-06    597.21\n",
       "2019-08-29    599.57\n",
       "2019-08-28    602.90\n",
       "2020-04-07    606.90\n",
       "2019-08-20    607.01\n",
       "2020-04-08    607.37\n",
       "2019-08-23    608.98\n",
       "2020-04-14    610.29\n",
       "2019-08-30    610.55\n",
       "2020-02-28    610.73\n",
       "2020-04-10    611.26\n",
       "2019-08-22    612.25\n",
       "2020-03-09    614.60\n",
       "2019-08-02    615.70\n",
       "2020-04-09    615.95\n",
       "2019-08-21    615.96\n",
       "2019-12-05    617.60\n",
       "2019-07-29    618.78\n",
       "2019-09-02    619.81\n",
       "2020-03-10    619.97\n",
       "2019-09-03    620.02\n",
       "2019-09-30    621.76\n",
       "2019-10-04    621.84\n",
       "2019-08-01    622.26\n",
       "2019-09-10    623.25\n",
       "2020-04-16    623.43\n",
       "2019-10-02    624.51\n",
       "2019-12-04    625.27\n",
       "2019-07-30    625.64\n",
       "2019-09-09    625.77\n",
       "2019-09-25    626.76\n",
       "2020-03-03    626.82\n",
       "2019-09-27    626.93\n",
       "2019-12-10    627.11\n",
       "2019-10-07    627.21\n",
       "2020-03-02    627.66\n",
       "2019-12-09    627.86\n",
       "2019-12-06    628.10\n",
       "2019-09-26    628.42\n",
       "2020-04-21    628.77\n",
       "2019-12-11    629.13\n",
       "2019-09-04    629.31\n",
       "2019-12-03    629.58\n",
       "2019-07-31    630.18\n",
       "2019-09-11    630.37\n",
       "2019-09-06    631.15\n",
       "2019-10-01    632.10\n",
       "2019-10-11    632.95\n",
       "2020-04-24    632.96\n",
       "2019-09-05    632.99\n",
       "2019-11-29    632.99\n",
       "2019-11-22    633.92\n",
       "2019-12-02    634.50\n",
       "2019-10-10    634.73\n",
       "2020-04-17    634.79\n",
       "2020-04-22    635.16\n",
       "2019-10-08    635.41\n",
       "2019-11-21    635.99\n",
       "2019-12-12    636.94\n",
       "2020-04-20    637.82\n",
       "2020-02-27    638.17\n",
       "2019-09-16    638.59\n",
       "2019-12-24    638.91\n",
       "2020-02-24    639.29\n",
       "2019-11-28    640.18\n",
       "2020-01-08    640.94\n",
       "2019-10-14    641.46\n",
       "2020-03-04    641.73\n",
       "2019-09-24    641.85\n",
       "2020-05-04    641.91\n",
       "2020-01-31    642.48\n",
       "2020-03-06    642.72\n",
       "2019-12-13    643.45\n",
       "2020-04-23    643.79\n",
       "2019-09-17    644.28\n",
       "2019-12-16    644.44\n",
       "2019-07-26    644.59\n",
       "2020-04-28    644.93\n",
       "2019-09-23    645.01\n",
       "2019-09-18    645.12\n",
       "2020-04-29    645.18\n",
       "2019-09-19    645.71\n",
       "2019-10-18    646.69\n",
       "2019-10-15    646.80\n",
       "2020-02-03    646.85\n",
       "2020-04-27    646.86\n",
       "2019-11-27    647.39\n",
       "2019-11-25    647.40\n",
       "2019-12-23    647.62\n",
       "2019-12-19    647.85\n",
       "2019-12-18    648.95\n",
       "2019-09-20    649.07\n",
       "2019-10-21    649.18\n",
       "2019-10-17    649.29\n",
       "2019-12-20    649.73\n",
       "2019-11-20    649.87\n",
       "2020-03-05    650.19\n",
       "2019-12-17    650.58\n",
       "2019-11-26    651.59\n",
       "2019-10-16    651.96\n",
       "2019-12-26    652.07\n",
       "2019-10-25    652.37\n",
       "2019-07-25    652.40\n",
       "2019-10-28    652.42\n",
       "2020-02-26    654.63\n",
       "2019-10-30    655.04\n",
       "2020-01-06    655.31\n",
       "2019-10-22    655.91\n",
       "2020-01-30    656.39\n",
       "2020-02-25    656.95\n",
       "2019-01-03    657.02\n",
       "2019-07-09    657.80\n",
       "2019-10-29    658.30\n",
       "2020-05-06    658.40\n",
       "2019-10-31    658.52\n",
       "2019-10-24    658.75\n",
       "2019-10-23    658.98\n",
       "2019-07-24    659.83\n",
       "2020-02-04    661.24\n",
       "2019-12-27    661.24\n",
       "2020-02-05    661.32\n",
       "2019-11-11    661.37\n",
       "2019-11-13    661.85\n",
       "2019-11-01    662.34\n",
       "2019-11-19    662.53\n",
       "2019-11-14    663.31\n",
       "2020-01-07    663.44\n",
       "2019-01-04    664.49\n",
       "2019-11-08    664.60\n",
       "2020-01-28    664.70\n",
       "2019-11-12    665.14\n",
       "2019-07-18    665.15\n",
       "2020-01-09    666.09\n",
       "2019-11-07    666.15\n",
       "2019-07-17    666.28\n",
       "2019-07-10    666.90\n",
       "2020-02-21    667.99\n",
       "2020-05-07    668.17\n",
       "2019-11-04    668.45\n",
       "2019-01-08    668.49\n",
       "2019-11-15    668.51\n",
       "2019-07-23    668.65\n",
       "2019-07-08    668.72\n",
       "2019-11-18    669.34\n",
       "2019-01-02    669.37\n",
       "2019-11-06    669.68\n",
       "2019-12-30    669.83\n",
       "2020-01-03    669.93\n",
       "2020-01-29    670.18\n",
       "2019-11-05    672.18\n",
       "2020-02-07    672.63\n",
       "2020-02-06    672.69\n",
       "2019-01-07    672.84\n",
       "2020-01-10    673.03\n",
       "2020-01-02    674.02\n",
       "2019-07-19    674.06\n",
       "2019-07-16    674.42\n",
       "2019-07-22    674.78\n",
       "2019-07-15    674.79\n",
       "2020-02-10    676.07\n",
       "2020-01-21    676.52\n",
       "2019-07-11    677.09\n",
       "2020-01-14    678.71\n",
       "2020-01-15    679.16\n",
       "2020-01-13    679.22\n",
       "2019-01-09    679.74\n",
       "2019-07-12    681.17\n",
       "2020-02-20    681.66\n",
       "2020-05-08    682.30\n",
       "2020-02-11    682.34\n",
       "2020-02-18    682.92\n",
       "2019-01-14    683.09\n",
       "2019-01-10    683.34\n",
       "2020-01-20    683.47\n",
       "2020-05-12    684.21\n",
       "2020-02-19    684.78\n",
       "2020-05-11    685.04\n",
       "2020-01-23    685.57\n",
       "2019-01-11    686.33\n",
       "2019-01-17    686.35\n",
       "2020-01-16    686.52\n",
       "2020-02-12    686.59\n",
       "2020-02-13    687.61\n",
       "2020-01-22    688.25\n",
       "2020-01-17    688.41\n",
       "2020-02-14    688.91\n",
       "2019-05-30    689.33\n",
       "2019-05-27    689.67\n",
       "2019-05-24    690.03\n",
       "2019-01-15    690.39\n",
       "2019-06-28    690.53\n",
       "2020-05-14    690.57\n",
       "2020-05-18    690.85\n",
       "2019-07-04    691.27\n",
       "2019-05-29    691.47\n",
       "2020-05-13    691.53\n",
       "2020-05-15    691.93\n",
       "2020-02-17    692.59\n",
       "2019-07-03    693.04\n",
       "2020-06-15    693.15\n",
       "2019-01-16    693.38\n",
       "2019-07-05    694.17\n",
       "2019-01-22    694.55\n",
       "2019-01-21    695.62\n",
       "2019-01-23    695.63\n",
       "2019-07-01    696.00\n",
       "2019-07-02    696.25\n",
       "2019-01-18    696.34\n",
       "2020-05-19    696.36\n",
       "2019-05-31    696.47\n",
       "2019-05-23    696.89\n",
       "2019-06-03    697.50\n",
       "2019-06-27    698.21\n",
       "2019-05-20    702.08\n",
       "2019-06-04    702.53\n",
       "2019-05-28    702.76\n",
       "2019-05-21    703.98\n",
       "2019-01-24    704.41\n",
       "2019-05-22    706.93\n",
       "2019-06-05    707.75\n",
       "2020-05-22    708.58\n",
       "2020-05-28    708.75\n",
       "2020-05-20    708.76\n",
       "2019-05-13    708.80\n",
       "2019-06-26    709.37\n",
       "2019-06-25    710.02\n",
       "2019-05-14    710.16\n",
       "2019-01-29    710.99\n",
       "2019-01-25    711.38\n",
       "2020-05-29    713.68\n",
       "2019-05-17    714.13\n",
       "2019-01-28    714.26\n",
       "2019-06-18    714.86\n",
       "2019-01-30    715.30\n",
       "2020-05-21    716.02\n",
       "2019-06-07    716.53\n",
       "2019-01-31    716.86\n",
       "2019-02-01    716.92\n",
       "2019-05-16    717.59\n",
       "2019-06-24    717.69\n",
       "2019-06-19    717.71\n",
       "2019-06-17    719.13\n",
       "2019-03-28    719.72\n",
       "2020-05-25    719.89\n",
       "2019-06-10    721.14\n",
       "2019-06-14    722.25\n",
       "2019-05-10    722.62\n",
       "2019-06-21    722.64\n",
       "2019-05-09    724.22\n",
       "2019-06-12    724.32\n",
       "2020-05-27    724.59\n",
       "2019-06-13    726.68\n",
       "2019-03-25    727.21\n",
       "2019-06-20    727.32\n",
       "2020-07-01    727.58\n",
       "2019-03-27    728.45\n",
       "2019-02-08    728.74\n",
       "2019-06-11    728.79\n",
       "2019-02-07    728.79\n",
       "2020-05-26    729.11\n",
       "2019-03-29    729.31\n",
       "2019-05-15    729.60\n",
       "2019-02-12    730.58\n",
       "2019-02-28    731.25\n",
       "2019-02-11    733.47\n",
       "2020-06-29    734.69\n",
       "2020-06-16    735.38\n",
       "2020-06-17    735.40\n",
       "2020-06-01    735.72\n",
       "2019-03-08    735.97\n",
       "2019-04-01    736.81\n",
       "2019-03-26    736.81\n",
       "2019-03-07    736.83\n",
       "2020-06-18    737.33\n",
       "2020-06-03    737.66\n",
       "2020-06-30    737.97\n",
       "2019-02-15    738.66\n",
       "2019-03-11    739.09\n",
       "2019-04-02    739.57\n",
       "2019-02-13    739.91\n",
       "2019-04-26    741.00\n",
       "2020-06-19    742.03\n",
       "2019-02-14    742.27\n",
       "2020-06-04    742.37\n",
       "2020-07-02    742.55\n",
       "2019-02-22    743.38\n",
       "2019-03-21    743.52\n",
       "2020-06-02    743.58\n",
       "2019-03-22    743.97\n",
       "2019-02-18    745.33\n",
       "2019-05-08    745.37\n",
       "2020-06-12    746.06\n",
       "2019-03-06    746.70\n",
       "2019-02-26    747.09\n",
       "2019-02-21    747.33\n",
       "2019-03-05    747.95\n",
       "2019-02-19    748.05\n",
       "2019-03-04    748.07\n",
       "2019-03-15    748.36\n",
       "2019-03-19    748.91\n",
       "2019-04-03    749.30\n",
       "2020-06-05    749.31\n",
       "2019-03-20    749.76\n",
       "2020-06-25    750.36\n",
       "2019-02-25    750.40\n",
       "2019-04-25    750.43\n",
       "2020-06-26    750.58\n",
       "2019-04-29    750.60\n",
       "2019-02-20    750.69\n",
       "2019-04-04    751.58\n",
       "2020-06-22    751.64\n",
       "2019-04-05    751.71\n",
       "2019-04-08    751.92\n",
       "2019-02-27    752.16\n",
       "2020-07-03    752.18\n",
       "2020-06-08    753.04\n",
       "2019-03-18    753.13\n",
       "2020-06-23    753.23\n",
       "2019-05-07    753.45\n",
       "2019-04-18    753.52\n",
       "2020-06-09    753.82\n",
       "2019-04-30    754.74\n",
       "2019-03-12    754.76\n",
       "2019-03-13    754.89\n",
       "2019-03-14    755.42\n",
       "2019-04-09    756.81\n",
       "2020-06-11    757.06\n",
       "2019-04-24    757.82\n",
       "2020-06-10    758.62\n",
       "2020-07-07    759.16\n",
       "2020-06-24    759.50\n",
       "2020-07-06    759.90\n",
       "2019-04-10    760.15\n",
       "2019-05-02    760.38\n",
       "2019-04-23    761.42\n",
       "2019-05-03    761.82\n",
       "2019-04-22    762.01\n",
       "2019-04-19    762.57\n",
       "2019-04-16    765.02\n",
       "2020-07-08    765.96\n",
       "2019-04-11    766.49\n",
       "2019-04-15    766.75\n",
       "2019-04-17    766.89\n",
       "2019-04-12    767.85\n",
       "2020-07-10    772.81\n",
       "2020-07-09    772.90\n",
       "2020-07-16    775.07\n",
       "2020-07-14    778.39\n",
       "2020-07-13    781.19\n",
       "2020-07-15    781.29\n",
       "2020-07-20    781.96\n",
       "2020-07-17    783.22\n",
       "2020-07-21    790.58\n",
       "2020-07-24    794.80\n",
       "2020-07-22    794.99\n",
       "2020-07-27    801.23\n",
       "2020-07-23    801.69\n",
       "2020-07-28    807.85\n",
       "2020-07-29    808.59\n",
       "2020-07-30    814.19\n",
       "2020-07-31    815.30\n",
       "2020-08-03    827.57\n",
       "2020-08-04    835.35\n",
       "2020-08-12    845.60\n",
       "2020-08-05    847.28\n",
       "2020-08-06    854.12\n",
       "2020-08-13    854.77\n",
       "2020-08-07    857.63\n",
       "2020-08-11    860.23\n",
       "2020-08-10    862.76\n",
       "Name: 현재지수, dtype: float64"
      ]
     },
     "execution_count": 13,
     "metadata": {},
     "output_type": "execute_result"
    }
   ],
   "source": [
    "kosdaq_day['현재지수'].sort_values()\n",
    "# 가장 낮은 때가 3월19일 "
   ]
  },
  {
   "cell_type": "code",
   "execution_count": null,
   "metadata": {},
   "outputs": [],
   "source": []
  }
 ],
 "metadata": {
  "kernelspec": {
   "display_name": "Python 3",
   "language": "python",
   "name": "python3"
  },
  "language_info": {
   "codemirror_mode": {
    "name": "ipython",
    "version": 3
   },
   "file_extension": ".py",
   "mimetype": "text/x-python",
   "name": "python",
   "nbconvert_exporter": "python",
   "pygments_lexer": "ipython3",
   "version": "3.6.10"
  },
  "toc": {
   "base_numbering": 1,
   "nav_menu": {},
   "number_sections": true,
   "sideBar": true,
   "skip_h1_title": false,
   "title_cell": "Table of Contents",
   "title_sidebar": "Contents",
   "toc_cell": false,
   "toc_position": {
    "height": "calc(100% - 180px)",
    "left": "10px",
    "top": "150px",
    "width": "165px"
   },
   "toc_section_display": true,
   "toc_window_display": false
  },
  "varInspector": {
   "cols": {
    "lenName": 16,
    "lenType": 16,
    "lenVar": 40
   },
   "kernels_config": {
    "python": {
     "delete_cmd_postfix": "",
     "delete_cmd_prefix": "del ",
     "library": "var_list.py",
     "varRefreshCmd": "print(var_dic_list())"
    },
    "r": {
     "delete_cmd_postfix": ") ",
     "delete_cmd_prefix": "rm(",
     "library": "var_list.r",
     "varRefreshCmd": "cat(var_dic_list()) "
    }
   },
   "types_to_exclude": [
    "module",
    "function",
    "builtin_function_or_method",
    "instance",
    "_Feature"
   ],
   "window_display": false
  }
 },
 "nbformat": 4,
 "nbformat_minor": 2
}
