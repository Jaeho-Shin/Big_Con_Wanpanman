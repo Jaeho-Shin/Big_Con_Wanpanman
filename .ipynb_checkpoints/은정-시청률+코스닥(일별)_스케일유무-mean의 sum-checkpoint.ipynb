{
 "cells": [
  {
   "cell_type": "markdown",
   "metadata": {
    "ExecuteTime": {
     "end_time": "2020-08-11T08:22:39.252188Z",
     "start_time": "2020-08-11T08:22:30.634046Z"
    }
   },
   "source": [
    "시청률+코스닥 파일의 위치는 Baseline과 같은 곳에"
   ]
  },
  {
   "cell_type": "code",
   "execution_count": null,
   "metadata": {
    "ExecuteTime": {
     "end_time": "2020-08-11T08:22:39.252188Z",
     "start_time": "2020-08-11T08:22:30.634046Z"
    }
   },
   "outputs": [],
   "source": [
    "import matplotlib.pyplot as plt\n",
    "import matplotlib.font_manager as fm\n",
    "import pandas as pd\n",
    "import numpy as np\n",
    "from datetime import datetime\n",
    "import time\n",
    "\n",
    "# 행 많이보기\n",
    "pd.set_option('display.max_row', 500)\n",
    "pd.set_option('display.max_columns', 100)\n",
    "\n",
    "# 한글 폰트 설정\n",
    "fm.get_fontconfig_fonts()\n",
    "\n",
    "# fname 옵션을 사용하는 방법\n",
    "font_location = 'C:\\\\WINDOWS\\\\Fonts\\\\\\x7f\\x7f\\x7f\\x7f.TTF' # For Windows\n",
    "font_name = fm.FontProperties(fname=font_location).get_name()\n",
    "plt.rc('font', family=font_name)\n",
    "plt.rc('font', size=12)\n",
    "plt.figure(figsize=(20,10))\n",
    "\n",
    "# 지수 표현 안보기"
   ]
  },
  {
   "cell_type": "markdown",
   "metadata": {
    "ExecuteTime": {
     "end_time": "2020-08-11T08:31:55.197548Z",
     "start_time": "2020-08-11T08:31:46.829588Z"
    }
   },
   "source": [
    "## 기본 데이터"
   ]
  },
  {
   "cell_type": "code",
   "execution_count": null,
   "metadata": {
    "ExecuteTime": {
     "end_time": "2020-08-11T08:31:55.197548Z",
     "start_time": "2020-08-11T08:31:46.829588Z"
    }
   },
   "outputs": [],
   "source": [
    "# 데이터 로드\n",
    "data = pd.read_excel('./Data/2019_data_time.xlsx', encoding='cp949', header=0, parse_dates=[\"방송일시\"])"
   ]
  },
  {
   "cell_type": "markdown",
   "metadata": {
    "ExecuteTime": {
     "end_time": "2020-08-11T08:31:55.197548Z",
     "start_time": "2020-08-11T08:31:46.829588Z"
    }
   },
   "source": [
    "## 시청률 데이터"
   ]
  },
  {
   "cell_type": "code",
   "execution_count": null,
   "metadata": {
    "ExecuteTime": {
     "end_time": "2020-08-11T08:31:55.197548Z",
     "start_time": "2020-08-11T08:31:46.829588Z"
    }
   },
   "outputs": [],
   "source": [
    "viewrate=pd.read_excel('./Data/시청률 데이터.xlsx',encoding='UTF-8',header=1)"
   ]
  },
  {
   "cell_type": "markdown",
   "metadata": {
    "ExecuteTime": {
     "end_time": "2020-08-11T08:31:55.197548Z",
     "start_time": "2020-08-11T08:31:46.829588Z"
    }
   },
   "source": [
    "## kosdaq(일별)"
   ]
  },
  {
   "cell_type": "code",
   "execution_count": null,
   "metadata": {
    "ExecuteTime": {
     "end_time": "2020-08-11T08:31:55.197548Z",
     "start_time": "2020-08-11T08:31:46.829588Z"
    }
   },
   "outputs": [],
   "source": [
    "name='kosdaq19.01.01_20.08.17(일)'\n",
    "d=pd.read_excel('./Data/'+name+'.xls',index_col='일자')\n",
    "kosdaq_day=d.reset_index()"
   ]
  },
  {
   "cell_type": "code",
   "execution_count": null,
   "metadata": {
    "ExecuteTime": {
     "end_time": "2020-08-11T08:31:55.197548Z",
     "start_time": "2020-08-11T08:31:46.829588Z"
    }
   },
   "outputs": [],
   "source": [
    "temp=[]\n",
    "from datetime import datetime\n",
    "for i in range(len(kosdaq_day)):\n",
    "    temp.append(datetime.strptime(kosdaq_day['일자'][i], '%Y/%m/%d'))\n",
    "\n",
    "kosdaq_day['일자_datetime']=temp\n",
    "\n",
    "kosdaq_day['year']=kosdaq_day['일자_datetime'].apply(lambda x: x.year)\n",
    "kosdaq_day['month']=kosdaq_day['일자_datetime'].apply(lambda x: x.month)\n",
    "kosdaq_day['date']=kosdaq_day['일자_datetime'].apply(lambda x: x.day)"
   ]
  },
  {
   "cell_type": "code",
   "execution_count": null,
   "metadata": {
    "ExecuteTime": {
     "end_time": "2020-08-11T08:31:55.197548Z",
     "start_time": "2020-08-11T08:31:46.829588Z"
    }
   },
   "outputs": [],
   "source": [
    "kosdaq_day_19=kosdaq_day[kosdaq_day['year']==2019]\n",
    "kosdaq_day_20=kosdaq_day[kosdaq_day['year']==2020]"
   ]
  },
  {
   "cell_type": "code",
   "execution_count": null,
   "metadata": {
    "ExecuteTime": {
     "end_time": "2020-08-11T08:31:55.197548Z",
     "start_time": "2020-08-11T08:31:46.829588Z"
    }
   },
   "outputs": [],
   "source": [
    "#kosdaq_day_19=kosdaq_day_19['']\n",
    "kosdaq_day_19=kosdaq_day_19[['현재지수','year','month','date']]"
   ]
  },
  {
   "cell_type": "markdown",
   "metadata": {},
   "source": [
    "# 전처리"
   ]
  },
  {
   "cell_type": "code",
   "execution_count": null,
   "metadata": {
    "ExecuteTime": {
     "end_time": "2020-08-11T08:31:55.297618Z",
     "start_time": "2020-08-11T08:31:55.261593Z"
    }
   },
   "outputs": [],
   "source": [
    "\n",
    "temp=[]\n",
    "from datetime import datetime\n",
    "for i in range(len(kosdaq_day)):\n",
    "    temp.append(datetime.strptime(kosdaq_day['일자'][i], '%Y/%m/%d'))\n",
    "\n",
    "# 무형 제거\n",
    "data.drop(data[data['상품군']=='무형'].index, inplace=True)\n",
    "data.reset_index(inplace=True)\n",
    "\n",
    "\n",
    "\n",
    "# 판매단가, 취급액 쉼표 제거 , int 변환\n",
    "\n",
    "# data['판매단가'] = data['판매단가'].str.replace(',','').astype(int)\n",
    "# data['취급액'] = data['취급액'].str.replace(',','').astype(int)\n",
    "# data['노출(분)'] = data['노출(분)'].astype(int)\n",
    "\n",
    "\n",
    "\n",
    "# 취급액 결측치 값 변경\n",
    "# df.loc[df['취급액']==1]['취급액'] = 50000\n",
    "\n",
    "\n",
    "# 날짜 변경 ( 다음날 데이터를 현재 날짜로 할 건지 )\n",
    "# data 의 colname 영어로 변경\n",
    "# index drop 필요\n",
    "print(data.columns)\n",
    "data.columns = ['index', 'time', 'exposure_time', 'mcode', 'product_code', 'product_name', 'category','price','salesAMT']\n",
    "print(data.columns)\n",
    "                \n",
    "# M', 'D', 'day', 'H', 'm',\n",
    "#3\n",
    "data['yy-mm-dd']=data['time'].apply(lambda time:str(time).split(' ')[0])\n",
    "data['s-hh-mm']=data['time'].apply(lambda time:str(time).split(' ')[1])\n",
    "data['s-hh-mm']=data['s-hh-mm'].apply(lambda x: x.split(':')[0]+\":\"+x.split(':')[1])\n",
    "data['f-hh-mm']=data['s-hh-mm']\n",
    "\n",
    "data['year']=data['time'].apply(lambda time:time.year)\n",
    "data['month']=data['time'].apply(lambda time:time.month)\n",
    "data['date']=data['time'].apply(lambda time: time.day)\n",
    "\n",
    "data['hour']=data['time'].apply(lambda time:time.hour)\n",
    "data['minute']=data['time'].apply(lambda time:time.minute)\n",
    "\n",
    "data['dayofweek']=data['time'].apply(lambda time:time.dayofweek) # Monday=0, Sunday=6."
   ]
  },
  {
   "cell_type": "code",
   "execution_count": null,
   "metadata": {
    "ExecuteTime": {
     "end_time": "2020-08-11T08:31:55.297618Z",
     "start_time": "2020-08-11T08:31:55.261593Z"
    }
   },
   "outputs": [],
   "source": [
    "# 시청률이 해당 일 02:00~01:59(익일)으로 나와있음.\n",
    "# 00:00~01:59의 시청율이 전날의 00:00~01:59 시청율 이므로\n",
    "# 하나씩 아래로 밀어서 그 날의 00:00~01:59의 시청율을 구하고, \n",
    "# 2019-01-01 00:00~01:59의 경우, 2019-12-31의 시청율로 퉁 침.\n",
    "\n",
    "viewrate.set_index(viewrate['시간대'], inplace=True)\n",
    "viewrate.drop(['시간대'],axis=1,inplace=True)\n",
    "viewrate = viewrate.transpose()"
   ]
  },
  {
   "cell_type": "code",
   "execution_count": null,
   "metadata": {
    "ExecuteTime": {
     "end_time": "2020-08-11T08:31:55.297618Z",
     "start_time": "2020-08-11T08:31:55.261593Z"
    }
   },
   "outputs": [],
   "source": [
    "#print('row(행):',len(viewrate),'\\ncolumn(열):',len(viewrate.iloc[0,:]))\n",
    "\n",
    "nextday시청률=viewrate.loc[:,'00:00':]\n",
    "nextdaycolumn=nextday시청률.columns\n",
    "nextdayindex=nextday시청률.index\n",
    "a=nextday시청률.loc['2019-12-31',:]\n",
    "a=a.reset_index()\n",
    "a.drop('시간대',axis=1,inplace=True)\n",
    "a=a.transpose()\n",
    "a.columns=nextdaycolumn\n",
    "\n",
    "\n",
    "nextday시청률=nextday시청률.drop('2019-12-31',axis=0)\n",
    "nextday시청률=nextday시청률.reset_index()\n",
    "nextday시청률.drop(['index'],axis=1,inplace=True)\n",
    "\n",
    "\n",
    "nextday시청률=pd.concat([a,nextday시청률],axis=0)\n",
    "nextday시청률=nextday시청률.reset_index()\n",
    "nextday시청률.drop('index',axis=1,inplace=True)\n",
    "nextday시청률=nextday시청률.set_index(nextdayindex)"
   ]
  },
  {
   "cell_type": "code",
   "execution_count": null,
   "metadata": {
    "ExecuteTime": {
     "end_time": "2020-08-11T08:31:55.297618Z",
     "start_time": "2020-08-11T08:31:55.261593Z"
    }
   },
   "outputs": [],
   "source": [
    "# 드롭을 하지 말고, 00:00~01:59 데이터의 경우 column명에 +24를 해서 보존하자\n",
    "plus24=viewrate.loc[:,'00:00':].columns\n",
    "\n",
    "notplus24=viewrate.loc[:,:'23:59'].columns #inex type\n",
    "notplus24=list(notplus24) # list형태로 변환\n",
    "\n",
    "\n",
    "plus24result=[]\n",
    "for i in range(len(plus24)-1):\n",
    "   \n",
    "    hour=int(plus24[i].split(':')[0])+24\n",
    "    minute=int(plus24[i].split(':')[1])\n",
    "    string='{0:02d}'.format(hour)+':'+'{0:02d}'.format(minute)\n",
    "    plus24result.append(string)\n",
    "plus24result.append(plus24[-1])\n",
    "newcolumn=notplus24+plus24result"
   ]
  },
  {
   "cell_type": "code",
   "execution_count": null,
   "metadata": {},
   "outputs": [],
   "source": [
    "viewrate.columns=newcolumn"
   ]
  },
  {
   "cell_type": "code",
   "execution_count": null,
   "metadata": {},
   "outputs": [],
   "source": [
    "viewrate=pd.concat([nextday시청률,viewrate],axis=1)\n",
    "시청률unstack=viewrate.transpose().unstack()\n",
    "#시청률unstack['2019-01-02']['01:59']\n",
    "시청률unstack"
   ]
  },
  {
   "cell_type": "code",
   "execution_count": null,
   "metadata": {},
   "outputs": [],
   "source": [
    "# 끝난 시각 만들기\n",
    "finishtime=[]\n",
    "for i in range(len(data)):\n",
    "    wdate=data.iloc[i,9]#년-월-일\n",
    "    wstime=data.iloc[i,10]#s-hh-mm\n",
    "    wduring=data.iloc[i,2]#exposure_time\n",
    "    \n",
    "    plushour,finishmin=divmod(int(wstime.split(':')[1])+int(wduring),60)#분끼리 더해서 60을 넘으면, 시간으로 반올림\n",
    "    finishhour=int(wstime.split(':')[0])+int(plushour)\n",
    "    #a,finishhour=divmod(finishhour,24)#24==0 바꾸는 작업\n",
    "    \n",
    "    finishtime.append('{0:02d}'.format(finishhour)+':'+'{0:02d}'.format(finishmin)) #2.6이상\n",
    "\n",
    "data['f-hh-mm']=finishtime\n",
    "\n",
    "#시청률unstack['2019-01-01']['02:00':'02:20'].sum()\n"
   ]
  },
  {
   "cell_type": "code",
   "execution_count": null,
   "metadata": {},
   "outputs": [],
   "source": [
    "시청률_sumlist=[]\n",
    "for i in range(len(data)):\n",
    "    wdate=data.iloc[i,9]#년-월-일\n",
    "    wstime=data.iloc[i,10]#시작시각\n",
    "    wftime=data.iloc[i,11]#끝시각\n",
    "    print(wdate,wstime,wftime)\n",
    "    if wdate=='2020-01-01':\n",
    "        wdate='2019-12-31'\n",
    "        wstime='24:00'\n",
    "        wftime='24:20'\n",
    "    else:\n",
    "        None\n",
    "    시청률_sumlist.append(시청률unstack[wdate][wstime:wftime].sum())\n",
    "\n",
    "data['tvrate']=시청률_sumlist"
   ]
  },
  {
   "cell_type": "code",
   "execution_count": null,
   "metadata": {},
   "outputs": [],
   "source": [
    "dummy_sangpumgun=pd.get_dummies(data['category'])\n",
    "data=data.join(dummy_sangpumgun.add_prefix('category_'))"
   ]
  },
  {
   "cell_type": "markdown",
   "metadata": {},
   "source": [
    "## kosdaq 추가"
   ]
  },
  {
   "cell_type": "code",
   "execution_count": null,
   "metadata": {},
   "outputs": [],
   "source": [
    "kosdaq_day_19=kosdaq_day_19[['현재지수','year','month','date']]"
   ]
  },
  {
   "cell_type": "code",
   "execution_count": null,
   "metadata": {},
   "outputs": [],
   "source": [
    "data=pd.merge(data, kosdaq_day_19, # merge할 DataFrame 객체 이름\n",
    "             how='left', # left, rigth, inner (default), outer\n",
    "             on=['year','month','date'] # merge의 기준이 되는 Key 변수\n",
    "        )"
   ]
  },
  {
   "cell_type": "code",
   "execution_count": null,
   "metadata": {},
   "outputs": [],
   "source": [
    "# 앞 방향으로 채우기_ 폐장한 거 유지되기에\n",
    "\n",
    "data['현재지수'].fillna(method='ffill',inplace=True)\n",
    "\n",
    "# 2019년1월1일을 채우기 위해 2018년 12월 31일을 보았지만 역시 휴일이었기에 12월28일 주가 넣음: 675.65\n",
    "data['현재지수'].fillna(675.65,inplace=True)"
   ]
  },
  {
   "cell_type": "code",
   "execution_count": null,
   "metadata": {},
   "outputs": [],
   "source": [
    "data.rename(columns = {'현재지수' : 'kosdaq'}, inplace = True)"
   ]
  },
  {
   "cell_type": "code",
   "execution_count": null,
   "metadata": {},
   "outputs": [],
   "source": []
  },
  {
   "cell_type": "markdown",
   "metadata": {},
   "source": [
    "# 동시간대 팔았던 물건들의 판매액 합계-> 양의 상관관계\n",
    "[multilinear](http://hleecaster.com/ml-linear-regression-example/)\n",
    "\n",
    "\n",
    "한 방송에 대한 시청률 몇 퍼센트 올랐어 내렸어, 판매액은 얼마나 올랐어 내렸어\n",
    "\n",
    "1. 상관관계 분석\n",
    "2. dummy_변수: n-1개\n",
    "3. 스케일링 - 숫자 연속적인 것들만 scale\n",
    "4. multilnear regression"
   ]
  },
  {
   "cell_type": "code",
   "execution_count": null,
   "metadata": {},
   "outputs": [],
   "source": [
    "data1=data"
   ]
  },
  {
   "cell_type": "code",
   "execution_count": null,
   "metadata": {},
   "outputs": [],
   "source": [
    "data1"
   ]
  },
  {
   "cell_type": "code",
   "execution_count": null,
   "metadata": {},
   "outputs": [],
   "source": [
    "data1.drop('index',axis=1)"
   ]
  },
  {
   "cell_type": "code",
   "execution_count": null,
   "metadata": {},
   "outputs": [],
   "source": [
    "data1colums=['time', 'exposure_time', 'mcode', 'product_code',\n",
    "       'product_name', 'category', 'price', 'salesAMT', 'yy-mm-dd', 's-hh-mm',\n",
    "       'f-hh-mm', 'year', 'month', 'date', 'hour', 'minute', 'dayofweek',\n",
    "       'tvrate', 'category_가구', 'category_가전', 'category_건강기능', 'category_농수축',\n",
    "       'category_생활용품', 'category_속옷', 'category_의류', 'category_이미용',\n",
    "       'category_잡화', 'category_주방', 'category_침구','kosdaq']"
   ]
  },
  {
   "cell_type": "markdown",
   "metadata": {},
   "source": [
    "## 상관관계 분석\n",
    "\n",
    "-1<x<-0.7 :매우 강한 음의 상관관계\n",
    "\n",
    "-0.7<x<-0.3 : 강한 음의 상관관계\n",
    "\n",
    "-0.3<x<-0.1: 약한 음의 상관관계\n",
    "\n",
    "-0.1<x<0.1: 상관 관계 없음\n",
    "\n",
    "0.1<x<0.3 : 약한 양의 상관\n"
   ]
  },
  {
   "cell_type": "code",
   "execution_count": null,
   "metadata": {},
   "outputs": [],
   "source": [
    "a=data1.corr()\n",
    "a=a.unstack()"
   ]
  },
  {
   "cell_type": "code",
   "execution_count": null,
   "metadata": {},
   "outputs": [],
   "source": [
    "# 양의 상관관계\n",
    "a[(a>0.4)&(a<1)]"
   ]
  },
  {
   "cell_type": "code",
   "execution_count": null,
   "metadata": {},
   "outputs": [],
   "source": [
    "print(a.loc['kosdaq','salesAMT'])\n",
    "print(a.loc['month','salesAMT'])"
   ]
  },
  {
   "cell_type": "code",
   "execution_count": null,
   "metadata": {
    "scrolled": true
   },
   "outputs": [],
   "source": [
    "# 음의 상관관계\n",
    "a[(a<-0.4)&(a>-1)] "
   ]
  },
  {
   "cell_type": "code",
   "execution_count": null,
   "metadata": {},
   "outputs": [],
   "source": [
    "print(a.loc['product_code','salesAMT'])  \n",
    "print(a.loc['mcode','salesAMT'])"
   ]
  },
  {
   "cell_type": "markdown",
   "metadata": {},
   "source": [
    "(mcode, product_code), (price, category_가전)\n",
    "\n",
    "즉, \n",
    "\n",
    "1. category_가전 \n",
    "2. mcode, product_code 중 하나\n",
    "\n",
    "이렇게 drop하면 됨.\n"
   ]
  },
  {
   "cell_type": "code",
   "execution_count": null,
   "metadata": {},
   "outputs": [],
   "source": [
    "idx=data1colums\n",
    "idy=['salesAMT']"
   ]
  },
  {
   "cell_type": "code",
   "execution_count": null,
   "metadata": {},
   "outputs": [],
   "source": [
    "#linear regression: 삭제한 변수에 비해 얼만큼 차이나는가 뺀게 기준\n",
    "#1 \n",
    "idx.remove('category_가전')\n",
    "#2\n",
    "idx.remove('product_code')"
   ]
  },
  {
   "cell_type": "markdown",
   "metadata": {},
   "source": [
    "## dummy 변수 n-1"
   ]
  },
  {
   "cell_type": "code",
   "execution_count": null,
   "metadata": {},
   "outputs": [],
   "source": [
    "what2remove=['salesAMT','year','time','product_name','category','yy-mm-dd','s-hh-mm', 'f-hh-mm']\n",
    "#,'price'\n",
    "for i in what2remove:\n",
    "    idx.remove(i)"
   ]
  },
  {
   "cell_type": "code",
   "execution_count": null,
   "metadata": {},
   "outputs": [],
   "source": [
    "print(idx)"
   ]
  },
  {
   "cell_type": "markdown",
   "metadata": {},
   "source": [
    "## 스케일링: 연속적"
   ]
  },
  {
   "cell_type": "code",
   "execution_count": null,
   "metadata": {},
   "outputs": [],
   "source": [
    "#need2scale=['exposure_time','tvrate','kosdaq']\n",
    "#from sklearn.preprocessing import RobustScaler\n",
    "#robustScaler = RobustScaler()\n",
    "#print(robustScaler.fit(data1[need2scale]))\n",
    "\n",
    "#data1[need2scale]=pd.DataFrame(robustScaler.transform(data1[need2scale]),columns=[need2scale],index=data1.index)"
   ]
  },
  {
   "cell_type": "code",
   "execution_count": null,
   "metadata": {},
   "outputs": [],
   "source": [
    "data1"
   ]
  },
  {
   "cell_type": "markdown",
   "metadata": {},
   "source": [
    "## train_test_split"
   ]
  },
  {
   "cell_type": "code",
   "execution_count": null,
   "metadata": {},
   "outputs": [],
   "source": [
    "X=data1[idx]\n",
    "y=data1[idy]\n",
    "\n",
    "from sklearn.model_selection import train_test_split\n",
    "X_train, X_test, y_train, y_test = train_test_split(X, y, test_size=0.3, shuffle=True, random_state=0)"
   ]
  },
  {
   "cell_type": "code",
   "execution_count": null,
   "metadata": {},
   "outputs": [],
   "source": [
    "X"
   ]
  },
  {
   "cell_type": "code",
   "execution_count": null,
   "metadata": {},
   "outputs": [],
   "source": [
    "#data1[idx+idy].to_excel('./Data/Xy_data.xlsx')#,index_label='id')"
   ]
  },
  {
   "cell_type": "markdown",
   "metadata": {},
   "source": [
    "## multilinear regression"
   ]
  },
  {
   "cell_type": "code",
   "execution_count": null,
   "metadata": {},
   "outputs": [],
   "source": [
    "from sklearn.linear_model import LinearRegression\n",
    "mlf=LinearRegression()\n",
    "mlf.fit(X_train,y_train)\n",
    "y_predict=mlf.predict(X_test)"
   ]
  },
  {
   "cell_type": "code",
   "execution_count": null,
   "metadata": {},
   "outputs": [],
   "source": [
    "mlf.score(X_test,y_test)"
   ]
  },
  {
   "cell_type": "code",
   "execution_count": null,
   "metadata": {},
   "outputs": [],
   "source": [
    "import matplotlib.pyplot as plt\n",
    "plt.autoscale(enable=True)\n",
    "\n",
    "plt.scatter(y_test,y_predict, alpha=0.4)\n",
    "plt.xlabel('Actual salesAMT')\n",
    "plt.ylabel('predcited salesAMT')\n",
    "plt.show()"
   ]
  },
  {
   "cell_type": "markdown",
   "metadata": {},
   "source": [
    "https://mindscale.kr/course/python-visualization-basic/grid"
   ]
  },
  {
   "cell_type": "code",
   "execution_count": null,
   "metadata": {},
   "outputs": [],
   "source": [
    "import seaborn as sns\n",
    "sns.regplot(y_test,y_predict,ci=True)#신뢰구간"
   ]
  },
  {
   "cell_type": "code",
   "execution_count": null,
   "metadata": {},
   "outputs": [],
   "source": [
    "mlf.intercept_"
   ]
  },
  {
   "cell_type": "code",
   "execution_count": null,
   "metadata": {},
   "outputs": [],
   "source": [
    "mlf.coef_"
   ]
  },
  {
   "cell_type": "markdown",
   "metadata": {},
   "source": [
    "[groupby object를 dataframe으로](https://stackoverflow.com/questions/10373660/converting-a-pandas-groupby-output-from-series-to-dataframe)"
   ]
  }
 ],
 "metadata": {
  "kernelspec": {
   "display_name": "Python 3",
   "language": "python",
   "name": "python3"
  },
  "language_info": {
   "codemirror_mode": {
    "name": "ipython",
    "version": 3
   },
   "file_extension": ".py",
   "mimetype": "text/x-python",
   "name": "python",
   "nbconvert_exporter": "python",
   "pygments_lexer": "ipython3",
   "version": "3.6.10"
  },
  "toc": {
   "base_numbering": 1,
   "nav_menu": {},
   "number_sections": true,
   "sideBar": true,
   "skip_h1_title": false,
   "title_cell": "Table of Contents",
   "title_sidebar": "Contents",
   "toc_cell": false,
   "toc_position": {
    "height": "calc(100% - 180px)",
    "left": "10px",
    "top": "150px",
    "width": "165px"
   },
   "toc_section_display": true,
   "toc_window_display": true
  },
  "varInspector": {
   "cols": {
    "lenName": 16,
    "lenType": 16,
    "lenVar": 40
   },
   "kernels_config": {
    "python": {
     "delete_cmd_postfix": "",
     "delete_cmd_prefix": "del ",
     "library": "var_list.py",
     "varRefreshCmd": "print(var_dic_list())"
    },
    "r": {
     "delete_cmd_postfix": ") ",
     "delete_cmd_prefix": "rm(",
     "library": "var_list.r",
     "varRefreshCmd": "cat(var_dic_list()) "
    }
   },
   "types_to_exclude": [
    "module",
    "function",
    "builtin_function_or_method",
    "instance",
    "_Feature"
   ],
   "window_display": false
  }
 },
 "nbformat": 4,
 "nbformat_minor": 2
}
